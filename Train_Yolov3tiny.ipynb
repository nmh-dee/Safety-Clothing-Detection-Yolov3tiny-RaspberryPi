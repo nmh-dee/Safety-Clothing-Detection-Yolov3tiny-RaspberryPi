{
  "nbformat": 4,
  "nbformat_minor": 0,
  "metadata": {
    "accelerator": "GPU",
    "colab": {
      "name": "Train-Yolov3tiny.ipynb",
      "provenance": [],
      "collapsed_sections": [],
      "include_colab_link": true
    },
    "kernelspec": {
      "display_name": "Python 3",
      "name": "python3"
    }
  },
  "cells": [
    {
      "cell_type": "markdown",
      "metadata": {
        "id": "view-in-github",
        "colab_type": "text"
      },
      "source": [
        "<a href=\"https://colab.research.google.com/github/nmh-dee/Safety-Clothing-Detection-Yolov3tiny-RaspberryPi/blob/main/Train_Yolov3tiny.ipynb\" target=\"_parent\"><img src=\"https://colab.research.google.com/assets/colab-badge.svg\" alt=\"Open In Colab\"/></a>"
      ]
    },
    {
      "cell_type": "code",
      "metadata": {
        "id": "ixhY6TsZNWt5"
      },
      "source": [
        "# Step 1. Mount drive \n",
        "from google.colab import drive\n",
        "drive.mount('/content/gdrive')"
      ],
      "execution_count": null,
      "outputs": []
    },
    {
      "cell_type": "code",
      "metadata": {
        "id": "iujKLai1yhNg"
      },
      "source": [
        "%cd /content/gdrive/My\\ Drive/darknet\n",
        "!unrar e data.rar"
      ],
      "execution_count": null,
      "outputs": []
    },
    {
      "cell_type": "code",
      "metadata": {
        "colab": {
          "base_uri": "https://localhost:8080/"
        },
        "id": "85fXGiakROv6",
        "outputId": "1a698cac-3e52-41ff-c119-e1c3362b5a2e"
      },
      "source": [
        "#Step 2. Tai ma nguon YOLO ve drive\n",
        "#Step 3: Upload file Data, yolov3-tiny.cfg,Makefile, len Google Drive\n",
        "\n",
        "# Step 4. Tạo file yolo.names\n",
        "# Từ dòng 2 là >> \n",
        "\n",
        "%cd /content/gdrive/My\\ Drive/darknet\n",
        "!echo \"wearning a hard hat\" > yolo.names\n",
        "!echo \"not wearing a hard hat\" >> yolo.names\n",
        "!echo \"wearing a safety vest\" >> yolo.names\n",
        "!echo \"not wearing a safety vest\" >> yolo.names\n",
        "!echo \"wearing a mask\" >> yolo.names\n",
        "!echo \"not wearing a mask\" >> yolo.names\n"
      ],
      "execution_count": null,
      "outputs": [
        {
          "output_type": "stream",
          "text": [
            "/content/gdrive/MyDrive/darknet\n"
          ],
          "name": "stdout"
        }
      ]
    },
    {
      "cell_type": "code",
      "metadata": {
        "colab": {
          "base_uri": "https://localhost:8080/"
        },
        "id": "Pe38UnjlRk7T",
        "outputId": "5b267e69-14c5-40c2-da50-ff67620ffa0d"
      },
      "source": [
        "# Step 5. Tạo file train.txt và val.txt\n",
        "\n",
        "%cd /content/gdrive/My\\ Drive/darknet\n",
        " \n",
        "import glob2\n",
        "import math  \n",
        "import os\n",
        "import numpy as np\n",
        " \n",
        "files = []\n",
        "for ext in [\"*.png\", \"*.jpeg\", \"*.jpg\"]:\n",
        "  image_files = glob2.glob(os.path.join(\"data\", ext))\n",
        "  files += image_files\n",
        " \n",
        "nb_val = math.floor(len(files)*0.1)\n",
        "rand_idx1 = np.random.randint(0, 2000, nb_val)\n",
        "rand_idx2 = np.random.randint(2100,4000, nb_val)\n",
        "\n",
        " \n",
        "# Tạo file train.txt\n",
        "with open(\"train.txt\", \"w\") as f:\n",
        "  for idx in np.arange(len(files)):\n",
        "    if (idx not in rand_idx1) and (idx not in rand_idx2) and (os.path.exists(files[idx][:-3] + \"txt\")):\n",
        "      f.write(files[idx]+'\\n')\n",
        " \n",
        "# Tạo file vali.txt\n",
        "with open(\"val.txt\", \"w\") as f:\n",
        "  for idx in np.arange(len(files)):\n",
        "    if (idx in rand_idx1) and (os.path.exists(files[idx][:-3] + \"txt\")):\n",
        "      f.write(files[idx]+'\\n')\n",
        "# Tạo file vali.txt\n",
        "with open(\"test.txt\", \"w\") as f:\n",
        "  for idx in np.arange(len(files)):\n",
        "    if (idx in rand_idx2) and (os.path.exists(files[idx][:-3] + \"txt\")):\n",
        "      f.write(files[idx]+'\\n')"
      ],
      "execution_count": null,
      "outputs": [
        {
          "output_type": "stream",
          "text": [
            "/content/gdrive/My Drive/darknet\n"
          ],
          "name": "stdout"
        }
      ]
    },
    {
      "cell_type": "code",
      "metadata": {
        "colab": {
          "base_uri": "https://localhost:8080/"
        },
        "id": "k4JkwUJNRtHW",
        "outputId": "81b2b3be-3678-49c2-df9c-6a605e1f966a"
      },
      "source": [
        "# Step 6. Tạo file yolo.data\n",
        "\n",
        "%cd /content/gdrive/My\\ Drive/darknet/darknet\n",
        "!mkdir backup\n",
        "!echo classes=6 > yolo.data    # Sửa 1 thành số class\n",
        "!echo train=train.txt >> yolo.data\n",
        "!echo valid=val.txt >> yolo.data\n",
        "!echo names=yolo.names >> yolo.data\n",
        "!echo backup=backup >> yolo.data"
      ],
      "execution_count": null,
      "outputs": [
        {
          "output_type": "stream",
          "text": [
            "/content/gdrive/My Drive/darknet/darknet\n",
            "mkdir: cannot create directory ‘backup’: File exists\n"
          ],
          "name": "stdout"
        }
      ]
    },
    {
      "cell_type": "code",
      "metadata": {
        "colab": {
          "base_uri": "https://localhost:8080/"
        },
        "id": "nJb3a2eE2SEY",
        "outputId": "dee7593d-a20e-4631-ba10-87110bd76c3f"
      },
      "source": [
        "#take a look at the kind of GPU we have\n",
        "!nvidia-smi"
      ],
      "execution_count": null,
      "outputs": [
        {
          "output_type": "stream",
          "text": [
            "Sat Dec 19 03:44:35 2020       \n",
            "+-----------------------------------------------------------------------------+\n",
            "| NVIDIA-SMI 455.45.01    Driver Version: 418.67       CUDA Version: 10.1     |\n",
            "|-------------------------------+----------------------+----------------------+\n",
            "| GPU  Name        Persistence-M| Bus-Id        Disp.A | Volatile Uncorr. ECC |\n",
            "| Fan  Temp  Perf  Pwr:Usage/Cap|         Memory-Usage | GPU-Util  Compute M. |\n",
            "|                               |                      |               MIG M. |\n",
            "|===============================+======================+======================|\n",
            "|   0  Tesla T4            Off  | 00000000:00:04.0 Off |                    0 |\n",
            "| N/A   45C    P8    11W /  70W |      0MiB / 15079MiB |      0%      Default |\n",
            "|                               |                      |                 ERR! |\n",
            "+-------------------------------+----------------------+----------------------+\n",
            "                                                                               \n",
            "+-----------------------------------------------------------------------------+\n",
            "| Processes:                                                                  |\n",
            "|  GPU   GI   CI        PID   Type   Process name                  GPU Memory |\n",
            "|        ID   ID                                                   Usage      |\n",
            "|=============================================================================|\n",
            "|  No running processes found                                                 |\n",
            "+-----------------------------------------------------------------------------+\n"
          ],
          "name": "stdout"
        }
      ]
    },
    {
      "cell_type": "code",
      "metadata": {
        "id": "qwn_rkAJ2XnW"
      },
      "source": [
        "# Change the number depending on what GPU is listed above, under NVIDIA-SMI > Name.\n",
        "# Tesla K80: 30\n",
        "# Tesla P100: 60\n",
        "# Tesla T4: 75\n"
      ],
      "execution_count": null,
      "outputs": []
    },
    {
      "cell_type": "code",
      "metadata": {
        "id": "RJlFIWCnRt--"
      },
      "source": [
        "# Step 7. Make darknet\n",
        "%cd /content/gdrive/My\\ Drive/darknet/darknet\n",
        "%env compute_capability=75\n",
        "!sed -i 's/OPENCV=0/OPENCV=1/g' Makefile\n",
        "!sed -i 's/GPU=0/GPU=1/g' Makefile\n",
        "!sed -i 's/CUDNN=0/CUDNN=1/g' Makefile\n",
        "!sed -i \"s/ARCH= -gencode arch=compute_75,code=sm_75/ARCH= -gencode arch=compute_${compute_capability},code=sm_${compute_capability}/g\" Makefile\n",
        "!make"
      ],
      "execution_count": null,
      "outputs": []
    },
    {
      "cell_type": "code",
      "metadata": {
        "id": "gPcOkTgNRwod"
      },
      "source": [
        "# Step 9. Train\n",
        "%cd /content/gdrive/MyDrive/darknet/darknet/\n",
        "#!./darknet detector train yolo.data cfg/yolov4-tiny.cfg yolov4-tiny.conv.29 -dont_show -map\n",
        "!./darknet detector train yolo.data cfg/yolov3-tiny.cfg yolov3-tiny.weights -dont_show -map -clear \n"
      ],
      "execution_count": null,
      "outputs": []
    },
    {
      "cell_type": "code",
      "metadata": {
        "colab": {
          "base_uri": "https://localhost:8080/"
        },
        "id": "v5LZjmMTv_Am",
        "outputId": "3e1fa280-18fb-47d7-d519-e11fb6ad9754"
      },
      "source": [
        "%cd /content/gdrive/MyDrive/darknet/darknet\n",
        "\n",
        "!./darknet detector map yolo.data cfg/yolov3-tiny.cfg ./backup/yolov3-tiny_best.weights"
      ],
      "execution_count": null,
      "outputs": [
        {
          "output_type": "stream",
          "text": [
            "/content/gdrive/MyDrive/darknet/darknet\n",
            " CUDA-version: 10010 (10010), cuDNN: 7.6.5, GPU count: 1  \n",
            " OpenCV version: 3.2.0\n",
            " 0 : compute_capability = 750, cudnn_half = 0, GPU: Tesla T4 \n",
            "net.optimized_memory = 0 \n",
            "mini_batch = 1, batch = 8, time_steps = 1, train = 0 \n",
            "   layer   filters  size/strd(dil)      input                output\n",
            "   0 conv     16       3 x 3/ 1    416 x 416 x   3 ->  416 x 416 x  16 0.150 BF\n",
            "   1 max                2x 2/ 2    416 x 416 x  16 ->  208 x 208 x  16 0.003 BF\n",
            "   2 conv     32       3 x 3/ 1    208 x 208 x  16 ->  208 x 208 x  32 0.399 BF\n",
            "   3 max                2x 2/ 2    208 x 208 x  32 ->  104 x 104 x  32 0.001 BF\n",
            "   4 conv     64       3 x 3/ 1    104 x 104 x  32 ->  104 x 104 x  64 0.399 BF\n",
            "   5 max                2x 2/ 2    104 x 104 x  64 ->   52 x  52 x  64 0.001 BF\n",
            "   6 conv    128       3 x 3/ 1     52 x  52 x  64 ->   52 x  52 x 128 0.399 BF\n",
            "   7 max                2x 2/ 2     52 x  52 x 128 ->   26 x  26 x 128 0.000 BF\n",
            "   8 conv    256       3 x 3/ 1     26 x  26 x 128 ->   26 x  26 x 256 0.399 BF\n",
            "   9 max                2x 2/ 2     26 x  26 x 256 ->   13 x  13 x 256 0.000 BF\n",
            "  10 conv    512       3 x 3/ 1     13 x  13 x 256 ->   13 x  13 x 512 0.399 BF\n",
            "  11 max                2x 2/ 1     13 x  13 x 512 ->   13 x  13 x 512 0.000 BF\n",
            "  12 conv   1024       3 x 3/ 1     13 x  13 x 512 ->   13 x  13 x1024 1.595 BF\n",
            "  13 conv    256       1 x 1/ 1     13 x  13 x1024 ->   13 x  13 x 256 0.089 BF\n",
            "  14 conv    512       3 x 3/ 1     13 x  13 x 256 ->   13 x  13 x 512 0.399 BF\n",
            "  15 conv     33       1 x 1/ 1     13 x  13 x 512 ->   13 x  13 x  33 0.006 BF\n",
            "  16 yolo\n",
            "[yolo] params: iou loss: mse (2), iou_norm: 0.75, obj_norm: 1.00, cls_norm: 1.00, delta_norm: 1.00, scale_x_y: 1.00\n",
            "  17 route  13 \t\t                           ->   13 x  13 x 256 \n",
            "  18 conv    128       1 x 1/ 1     13 x  13 x 256 ->   13 x  13 x 128 0.011 BF\n",
            "  19 upsample                 2x    13 x  13 x 128 ->   26 x  26 x 128\n",
            "  20 route  19 8 \t                           ->   26 x  26 x 384 \n",
            "  21 conv    256       3 x 3/ 1     26 x  26 x 384 ->   26 x  26 x 256 1.196 BF\n",
            "  22 conv     33       1 x 1/ 1     26 x  26 x 256 ->   26 x  26 x  33 0.011 BF\n",
            "  23 yolo\n",
            "[yolo] params: iou loss: mse (2), iou_norm: 0.75, obj_norm: 1.00, cls_norm: 1.00, delta_norm: 1.00, scale_x_y: 1.00\n",
            "Total BFLOPS 5.455 \n",
            "avg_outputs = 325902 \n",
            " Allocate additional workspace_size = 52.43 MB \n",
            "Loading weights from ./backup/yolov3-tiny_best.weights...\n",
            " seen 64, trained: 476 K-images (7 Kilo-batches_64) \n",
            "Done! Loaded 24 layers from weights-file \n",
            "\n",
            " calculation mAP (mean average precision)...\n",
            " Detection layer: 16 - type = 28 \n",
            " Detection layer: 23 - type = 28 \n",
            "856\n",
            " detections_count = 60798, unique_truth_count = 11622  \n",
            "class_id = 0, name = wearning a hard hat, ap = 76.55%   \t (TP = 1907, FP = 504) \n",
            "class_id = 1, name = not wearing a hard hat, ap = 68.33%   \t (TP = 1236, FP = 499) \n",
            "class_id = 2, name = wearing a safety vest, ap = 72.92%   \t (TP = 512, FP = 170) \n",
            "class_id = 3, name = not wearing a safety vest, ap = 68.92%   \t (TP = 1989, FP = 684) \n",
            "class_id = 4, name = wearing a mask, ap = 67.43%   \t (TP = 466, FP = 120) \n",
            "class_id = 5, name = not wearing a mask, ap = 78.48%   \t (TP = 1913, FP = 644) \n",
            "\n",
            " for conf_thresh = 0.25, precision = 0.75, recall = 0.69, F1-score = 0.72 \n",
            " for conf_thresh = 0.25, TP = 8023, FP = 2621, FN = 3599, average IoU = 56.59 % \n",
            "\n",
            " IoU threshold = 50 %, used Area-Under-Curve for each unique Recall \n",
            " mean average precision (mAP@0.50) = 0.721056, or 72.11 % \n",
            "Total Detection Time: 198 Seconds\n",
            "\n",
            "Set -points flag:\n",
            " `-points 101` for MS COCO \n",
            " `-points 11` for PascalVOC 2007 (uncomment `difficult` in voc.data) \n",
            " `-points 0` (AUC) for ImageNet, PascalVOC 2010-2012, your custom dataset\n"
          ],
          "name": "stdout"
        }
      ]
    },
    {
      "cell_type": "code",
      "metadata": {
        "colab": {
          "base_uri": "https://localhost:8080/"
        },
        "id": "0NHCwYHAKFa_",
        "outputId": "116bf990-a4d0-419a-ae25-60a340a2c585"
      },
      "source": [
        "%cd /content/gdrive/MyDrive/darknet/darknet\n",
        "\n",
        "!./darknet detector map yolo.data cfg/yolov4-tiny.cfg ./backup/yolov4-tiny_best.weights"
      ],
      "execution_count": null,
      "outputs": [
        {
          "output_type": "stream",
          "text": [
            "/content/gdrive/MyDrive/darknet/darknet\n",
            " CUDA-version: 10010 (10010), cuDNN: 7.6.5, GPU count: 1  \n",
            " OpenCV version: 3.2.0\n",
            " 0 : compute_capability = 750, cudnn_half = 0, GPU: Tesla T4 \n",
            "net.optimized_memory = 0 \n",
            "mini_batch = 1, batch = 8, time_steps = 1, train = 0 \n",
            "   layer   filters  size/strd(dil)      input                output\n",
            "   0 conv     32       3 x 3/ 2    416 x 416 x   3 ->  208 x 208 x  32 0.075 BF\n",
            "   1 conv     64       3 x 3/ 2    208 x 208 x  32 ->  104 x 104 x  64 0.399 BF\n",
            "   2 conv     64       3 x 3/ 1    104 x 104 x  64 ->  104 x 104 x  64 0.797 BF\n",
            "   3 route  2 \t\t                       1/2 ->  104 x 104 x  32 \n",
            "   4 conv     32       3 x 3/ 1    104 x 104 x  32 ->  104 x 104 x  32 0.199 BF\n",
            "   5 conv     32       3 x 3/ 1    104 x 104 x  32 ->  104 x 104 x  32 0.199 BF\n",
            "   6 route  5 4 \t                           ->  104 x 104 x  64 \n",
            "   7 conv     64       1 x 1/ 1    104 x 104 x  64 ->  104 x 104 x  64 0.089 BF\n",
            "   8 route  2 7 \t                           ->  104 x 104 x 128 \n",
            "   9 max                2x 2/ 2    104 x 104 x 128 ->   52 x  52 x 128 0.001 BF\n",
            "  10 conv    128       3 x 3/ 1     52 x  52 x 128 ->   52 x  52 x 128 0.797 BF\n",
            "  11 route  10 \t\t                       1/2 ->   52 x  52 x  64 \n",
            "  12 conv     64       3 x 3/ 1     52 x  52 x  64 ->   52 x  52 x  64 0.199 BF\n",
            "  13 conv     64       3 x 3/ 1     52 x  52 x  64 ->   52 x  52 x  64 0.199 BF\n",
            "  14 route  13 12 \t                           ->   52 x  52 x 128 \n",
            "  15 conv    128       1 x 1/ 1     52 x  52 x 128 ->   52 x  52 x 128 0.089 BF\n",
            "  16 route  10 15 \t                           ->   52 x  52 x 256 \n",
            "  17 max                2x 2/ 2     52 x  52 x 256 ->   26 x  26 x 256 0.001 BF\n",
            "  18 conv    256       3 x 3/ 1     26 x  26 x 256 ->   26 x  26 x 256 0.797 BF\n",
            "  19 route  18 \t\t                       1/2 ->   26 x  26 x 128 \n",
            "  20 conv    128       3 x 3/ 1     26 x  26 x 128 ->   26 x  26 x 128 0.199 BF\n",
            "  21 conv    128       3 x 3/ 1     26 x  26 x 128 ->   26 x  26 x 128 0.199 BF\n",
            "  22 route  21 20 \t                           ->   26 x  26 x 256 \n",
            "  23 conv    256       1 x 1/ 1     26 x  26 x 256 ->   26 x  26 x 256 0.089 BF\n",
            "  24 route  18 23 \t                           ->   26 x  26 x 512 \n",
            "  25 max                2x 2/ 2     26 x  26 x 512 ->   13 x  13 x 512 0.000 BF\n",
            "  26 conv    512       3 x 3/ 1     13 x  13 x 512 ->   13 x  13 x 512 0.797 BF\n",
            "  27 conv    256       1 x 1/ 1     13 x  13 x 512 ->   13 x  13 x 256 0.044 BF\n",
            "  28 conv    512       3 x 3/ 1     13 x  13 x 256 ->   13 x  13 x 512 0.399 BF\n",
            "  29 conv     33       1 x 1/ 1     13 x  13 x 512 ->   13 x  13 x  33 0.006 BF\n",
            "  30 yolo\n",
            "[yolo] params: iou loss: ciou (4), iou_norm: 0.07, obj_norm: 1.00, cls_norm: 1.00, delta_norm: 1.00, scale_x_y: 1.05\n",
            "nms_kind: greedynms (1), beta = 0.600000 \n",
            "  31 route  27 \t\t                           ->   13 x  13 x 256 \n",
            "  32 conv    128       1 x 1/ 1     13 x  13 x 256 ->   13 x  13 x 128 0.011 BF\n",
            "  33 upsample                 2x    13 x  13 x 128 ->   26 x  26 x 128\n",
            "  34 route  33 23 \t                           ->   26 x  26 x 384 \n",
            "  35 conv    256       3 x 3/ 1     26 x  26 x 384 ->   26 x  26 x 256 1.196 BF\n",
            "  36 conv     33       1 x 1/ 1     26 x  26 x 256 ->   26 x  26 x  33 0.011 BF\n",
            "  37 yolo\n",
            "[yolo] params: iou loss: ciou (4), iou_norm: 0.07, obj_norm: 1.00, cls_norm: 1.00, delta_norm: 1.00, scale_x_y: 1.05\n",
            "nms_kind: greedynms (1), beta = 0.600000 \n",
            "Total BFLOPS 6.795 \n",
            "avg_outputs = 300330 \n",
            " Allocate additional workspace_size = 26.22 MB \n",
            "Loading weights from ./backup/yolov4-tiny_best.weights...\n",
            " seen 64, trained: 710 K-images (11 Kilo-batches_64) \n",
            "Done! Loaded 38 layers from weights-file \n",
            "\n",
            " calculation mAP (mean average precision)...\n",
            " Detection layer: 30 - type = 28 \n",
            " Detection layer: 37 - type = 28 \n",
            "856\n",
            " detections_count = 41243, unique_truth_count = 11622  \n",
            "class_id = 0, name = wearning a hard hat, ap = 82.80%   \t (TP = 1964, FP = 222) \n",
            "class_id = 1, name = not wearing a hard hat, ap = 76.66%   \t (TP = 1358, FP = 309) \n",
            "class_id = 2, name = wearing a safety vest, ap = 80.86%   \t (TP = 607, FP = 190) \n",
            "class_id = 3, name = not wearing a safety vest, ap = 79.88%   \t (TP = 2411, FP = 713) \n",
            "class_id = 4, name = wearing a mask, ap = 75.49%   \t (TP = 593, FP = 265) \n",
            "class_id = 5, name = not wearing a mask, ap = 83.56%   \t (TP = 1909, FP = 313) \n",
            "\n",
            " for conf_thresh = 0.25, precision = 0.81, recall = 0.76, F1-score = 0.79 \n",
            " for conf_thresh = 0.25, TP = 8842, FP = 2012, FN = 2780, average IoU = 63.05 % \n",
            "\n",
            " IoU threshold = 50 %, used Area-Under-Curve for each unique Recall \n",
            " mean average precision (mAP@0.50) = 0.798736, or 79.87 % \n",
            "Total Detection Time: 19 Seconds\n",
            "\n",
            "Set -points flag:\n",
            " `-points 101` for MS COCO \n",
            " `-points 11` for PascalVOC 2007 (uncomment `difficult` in voc.data) \n",
            " `-points 0` (AUC) for ImageNet, PascalVOC 2010-2012, your custom dataset\n"
          ],
          "name": "stdout"
        }
      ]
    }
  ]
}